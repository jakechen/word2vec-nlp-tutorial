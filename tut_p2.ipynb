{
 "metadata": {
  "name": "",
  "signature": "sha256:7f311b35eaddde258716d961463855f91e9b5c632c318614acefcdd548085f73"
 },
 "nbformat": 3,
 "nbformat_minor": 0,
 "worksheets": [
  {
   "cells": [
    {
     "cell_type": "heading",
     "level": 1,
     "metadata": {},
     "source": [
      "Part 2: Word Vectors"
     ]
    },
    {
     "cell_type": "code",
     "collapsed": false,
     "input": [],
     "language": "python",
     "metadata": {},
     "outputs": []
    }
   ],
   "metadata": {}
  }
 ]
}